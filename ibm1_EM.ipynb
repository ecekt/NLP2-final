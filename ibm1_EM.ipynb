{
 "cells": [
  {
   "cell_type": "code",
   "execution_count": 16,
   "metadata": {
    "collapsed": true
   },
   "outputs": [],
   "source": [
    "%matplotlib inline\n",
    "\n",
    "import dill\n",
    "from collections import defaultdict, Counter\n",
    "import numpy as np\n",
    "import random\n",
    "import matplotlib.pyplot as plt"
   ]
  },
  {
   "cell_type": "code",
   "execution_count": 17,
   "metadata": {},
   "outputs": [],
   "source": [
    "#read the training files and concatenate them to get the training set\n",
    "\n",
    "##english\n",
    "train_e = 'training/hansards.36.2.e'\n",
    "test_e = 'testing/test/test.e'\n",
    "dev_e = 'validation/dev.e'\n",
    "# train_e = 'training/eng.e'\n",
    "\n",
    "##french\n",
    "train_f = 'training/hansards.36.2.f'\n",
    "test_f = 'testing/test/test.f'\n",
    "dev_f = 'validation/dev.f'\n",
    "# train_f = 'training/fra.f'\n",
    "\n",
    "null = ['0NULL']\n",
    "\n",
    "with open(train_e) as e:\n",
    "    sentences_e = [null + l.split() for l in e.readlines()]\n",
    "\n",
    "with open(test_e) as e:\n",
    "    for l in e.readlines():\n",
    "         sentences_e.append(null + l.split())\n",
    "\n",
    "with open(dev_e) as e:\n",
    "    for l in e.readlines():\n",
    "         sentences_e.append(null + l.split())\n",
    "\n",
    "    \n",
    "with open(train_f) as f:\n",
    "    sentences_f = [l.split() for l in f.readlines()]\n",
    "\n",
    "with open(test_f) as f:\n",
    "    for l in f.readlines():\n",
    "         sentences_f.append(l.split())\n",
    "\n",
    "with open(dev_f) as f:\n",
    "    for l in f.readlines():\n",
    "         sentences_f.append(l.split())\n",
    "    "
   ]
  },
  {
   "cell_type": "code",
   "execution_count": 18,
   "metadata": {},
   "outputs": [],
   "source": [
    "no_sentences = len(sentences_e)"
   ]
  },
  {
   "cell_type": "code",
   "execution_count": 23,
   "metadata": {},
   "outputs": [],
   "source": [
    "#Initialize the translation probabilities uniformly\n",
    "vocab_size = 43196\n",
    "for i in range(no_sentences):\n",
    "    sent_e = sentences_e[i]\n",
    "    sent_f = sentences_f[i]\n",
    "    \n",
    "    for word_e in sent_e:\n",
    "        for word_f in sent_f:\n",
    "            #initialize the translation probabilities t(f|e) uniformly\n",
    "            t[word_f.lower()][word_e.lower()] = 1/vocab_size\n"
   ]
  },
  {
   "cell_type": "code",
   "execution_count": 24,
   "metadata": {},
   "outputs": [
    {
     "name": "stdout",
     "output_type": "stream",
     "text": [
      "this is iteration 0\n",
      "-152437.964491\n",
      "this is iteration 1\n",
      "-152058.892535\n",
      "this is iteration 2\n",
      "-151960.59609\n",
      "this is iteration 3\n",
      "-151923.682492\n",
      "this is iteration 4\n",
      "-151902.667113\n",
      "this is iteration 5\n",
      "-151891.109478\n",
      "this is iteration 6\n",
      "-151879.746249\n",
      "this is iteration 7\n",
      "-151869.293927\n",
      "this is iteration 8\n",
      "-151860.068736\n",
      "this is iteration 9\n",
      "-151852.276569\n"
     ]
    },
    {
     "data": {
      "image/png": "[encoded data removed]",
      "text/plain": [
       "<matplotlib.figure.Figure at 0x1c2022e10>"
      ]
     },
     "metadata": {},
     "output_type": "display_data"
    }
   ],
   "source": [
    "#IBM model 1 with EM training\n",
    "            \n",
    "#Here we initialize all counts to 0\n",
    "co_occurences = defaultdict(lambda: defaultdict(int)) #this will be a dictionary of co-occurence counts\n",
    "counts_e = defaultdict(int) #this will be a dictionary of individual counts of e\n",
    "s_total = defaultdict(int)\n",
    "likelihood_list = []\n",
    "\n",
    "num_iterations = 10\n",
    "\n",
    "#while not converged \n",
    "for k in range(num_iterations):\n",
    "    print(\"this is iteration\",k)\n",
    "    co_occurences = defaultdict(lambda: defaultdict(int)) #this will be a dictionary of co-occurence counts\n",
    "    counts_e = defaultdict(int) #this will be a dictionary of individual counts of e\n",
    "#     s_total = defaultdict(int)\n",
    "    \n",
    "    for sent in range(no_sentences):\n",
    "        \n",
    "        sent_e = sentences_e[sent]\n",
    "        sent_f = sentences_f[sent]\n",
    "        \n",
    "        #E-step: compute expected counts\n",
    "        \n",
    "        #Compute normalization term (Z or s_total)\n",
    "        for word_f in sent_f:\n",
    "            s_total[word_f.lower()] = 0\n",
    "            for word_e in sent_e:\n",
    "                s_total[word_f.lower()] += t[word_f.lower()][word_e.lower()]\n",
    "        \n",
    "#         #Collect counts\n",
    "        for word_e in sent_e:\n",
    "            for word_f in sent_f:\n",
    "                #increment count of aligments by expected count\n",
    "                co_occurences[word_f.lower()][word_e.lower()] += t[word_f.lower()][word_e.lower()] / s_total[word_f.lower()]\n",
    "                #increment marginal count of French word by expected count\n",
    "                counts_e[word_e.lower()] += t[word_f.lower()][word_e.lower()] / s_total[word_f.lower()]\n",
    "    \n",
    "        #M-step: normalize\n",
    "        #Estimate probabilities \n",
    "        for word_e in sent_e:\n",
    "            for word_f in sent_f:\n",
    "                t[word_f.lower()][word_e.lower()] = co_occurences[word_f.lower()][word_e.lower()] / counts_e[word_e.lower()]\n",
    "                \n",
    "    #Compute the log likelihood\n",
    "    likelihood = 0\n",
    "\n",
    "    for sent in range(no_sentences):\n",
    "\n",
    "        sent_e = sentences_e[sent]\n",
    "        sent_f = sentences_f[sent]\n",
    "\n",
    "        l = len(sent_e) #includes null\n",
    "        m = len(sent_f)\n",
    "\n",
    "        const = -m * np.log(l)\n",
    "\n",
    "        sent_likelihood = 0 \n",
    "\n",
    "        for word_f in sent_f:\n",
    "\n",
    "            word_likelihood = 0 \n",
    "\n",
    "            for word_e in sent_e:\n",
    "\n",
    "                if word_likelihood == 0 or t[word_f.lower()][word_e.lower()] > word_likelihood:\n",
    "\n",
    "                    word_likelihood = t[word_f.lower()][word_e.lower()]\n",
    "\n",
    "            sent_likelihood += const + np.log(word_likelihood)\n",
    "\n",
    "        likelihood += sent_likelihood\n",
    "    \n",
    "    print(likelihood)\n",
    "    likelihood_list.append(likelihood)\n",
    "\n",
    "    \n",
    "# filename = 'transprobs_' + str(k) + '.pickle'                   \n",
    "# with open(filename, 'wb') as f:\n",
    "#     dill.dump(t,f)\n",
    "        \n",
    "#plot likelihood results    \n",
    "iteration= list(range(len(likelihood_list)))\n",
    "\n",
    "plt.plot(iteration, likelihood_list)\n",
    "plt.xlabel(\"iteration\")\n",
    "plt.ylabel('log likelihood')\n",
    "plt.title('Evolution of training log likelihood as a function of the iteration')\n",
    "plt.savefig(\"EM_IBM1.png\")\n",
    "plt.show()\n",
    "\n"
   ]
  },
  {
   "cell_type": "code",
   "execution_count": 131,
   "metadata": {
    "collapsed": true
   },
   "outputs": [],
   "source": [
    "dev_e = 'validation/dev.e'\n",
    "dev_f = 'validation/dev.f'\n",
    "\n",
    "with open(test_e) as e:\n",
    "    val_sentences_e = [null + l.split() for l in e.readlines()]\n",
    "with open(test_f) as f:\n",
    "    val_sentences_f = [l.split() for l in f.readlines()]\n",
    "\n",
    "num_val_sentences = len(val_sentences_e)"
   ]
  },
  {
   "cell_type": "code",
   "execution_count": 25,
   "metadata": {
    "collapsed": true
   },
   "outputs": [],
   "source": [
    "#Decoding with IBM model 1\n",
    "#we try to find the most probable alignment given the translation \n",
    "#probabilities that were trained with the EM steps\n",
    "#for each word in a sentence, find highest t\n",
    "\n",
    "def write_naacl(filename):\n",
    "\n",
    "    naaclfile = open(filename,\"w\") \n",
    "\n",
    "    for sent in range(num_val_sentences):\n",
    "        sent_e = val_sentences_e[sent]\n",
    "        sent_f = val_sentences_f[sent]\n",
    "\n",
    "\n",
    "        l = len(sent_e) #includes null\n",
    "        m = len(sent_f)\n",
    "\n",
    "        for f in range(m):\n",
    "            \n",
    "            best_prob = 0\n",
    "            best_j = 0\n",
    "            \n",
    "            for e in range(l):\n",
    "                if t[sent_f[f].lower()][sent_e[e].lower()] > best_prob:\n",
    "                    best_prob = t[sent_f[f].lower()][sent_e[e].lower()]\n",
    "                    best_j = e\n",
    "            \n",
    "            #we ignore the NULL in decoding\n",
    "            if best_j != 0:\n",
    "                naaclfile.write(str(sent+1) + \" \" + str(best_j) + \" \" + str(f+1) + \" S\" + \"\\n\")\n",
    "    naaclfile.close()\n"
   ]
  },
  {
   "cell_type": "code",
   "execution_count": 138,
   "metadata": {},
   "outputs": [
    {
     "name": "stdout",
     "output_type": "stream",
     "text": [
      "447\n"
     ]
    }
   ],
   "source": [
    "test_e = 'testing/test/test.e'\n",
    "test_f = 'testing/test/test.f'\n",
    "\n",
    "with open(test_e) as e:\n",
    "    test_sentences_e = [null + l.split() for l in e.readlines()]\n",
    "with open(test_f) as f:\n",
    "    test_sentences_f = [l.split() for l in f.readlines()]\n",
    "\n",
    "num_test_sentences = len(test_sentences_e)\n",
    "print(num_test_sentences)"
   ]
  },
  {
   "cell_type": "code",
   "execution_count": 143,
   "metadata": {
    "collapsed": true
   },
   "outputs": [],
   "source": [
    "#Decoding with IBM model 1\n",
    "#we try to find the most probable alignment given the translation \n",
    "#probabilities that were trained with the EM steps\n",
    "#for each word in a sentence, find highest t\n",
    "\n",
    "def write_test_naacl(filename):\n",
    "\n",
    "    naaclfile = open(filename,\"w\") \n",
    "\n",
    "    for sent in range(num_test_sentences):\n",
    "        sent_e = test_sentences_e[sent]\n",
    "        sent_f = test_sentences_f[sent]\n",
    "\n",
    "\n",
    "        l = len(sent_e) #includes null\n",
    "        m = len(sent_f)\n",
    "\n",
    "        for f in range(m):\n",
    "            best_prob = 0\n",
    "            best_j = 0\n",
    "            for e in range(l):\n",
    "                if t[sent_f[f].lower()][sent_e[e].lower()] > best_prob:\n",
    "                    best_prob = t[sent_f[f].lower()][sent_e[e].lower()]\n",
    "                    best_j = e\n",
    "            if best_j != 0:\n",
    "                naaclfile.write(str(sent+1) + \" \" + str(best_j) + \" \" + str(f+1) + \" S\" + \"\\n\")\n",
    "\n",
    "    naaclfile.close()\n"
   ]
  },
  {
   "cell_type": "code",
   "execution_count": null,
   "metadata": {
    "collapsed": true
   },
   "outputs": [],
   "source": []
  }
 ],
 "metadata": {
  "kernelspec": {
   "display_name": "Python 3",
   "language": "python",
   "name": "python3"
  },
  "language_info": {
   "codemirror_mode": {
    "name": "ipython",
    "version": 3
   },
   "file_extension": ".py",
   "mimetype": "text/x-python",
   "name": "python",
   "nbconvert_exporter": "python",
   "pygments_lexer": "ipython3",
   "version": "3.6.3"
  }
 },
 "nbformat": 4,
 "nbformat_minor": 2
}
