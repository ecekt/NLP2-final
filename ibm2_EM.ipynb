{
 "cells": [
  {
   "cell_type": "code",
   "execution_count": 4,
   "metadata": {
    "collapsed": true
   },
   "outputs": [],
   "source": [
    "# %matplotlib inline\n",
    "\n",
    "import dill\n",
    "from collections import defaultdict, Counter\n",
    "import numpy as np\n",
    "import random\n",
    "import matplotlib.pyplot as plt\n",
    "from datetime import datetime"
   ]
  },
  {
   "cell_type": "code",
   "execution_count": 5,
   "metadata": {},
   "outputs": [
    {
     "name": "stdout",
     "output_type": "stream",
     "text": [
      "231648\n"
     ]
    }
   ],
   "source": [
    "#read the training files and concatenate to create the training corpus\n",
    "\n",
    "##english\n",
    "train_e = 'training/hansards.36.2.e'\n",
    "test_e = 'testing/test/test.e'\n",
    "dev_e = 'validation/dev.e'\n",
    "# train_e = 'training/eng.e'\n",
    "\n",
    "##french\n",
    "train_f = 'training/hansards.36.2.f'\n",
    "test_f = 'testing/test/test.f'\n",
    "dev_f = 'validation/dev.f'\n",
    "# train_f = 'training/fra.f'\n",
    "\n",
    "null = ['0NULL']\n",
    "\n",
    "with open(train_e) as e:\n",
    "    sentences_e = [null + l.split() for l in e.readlines()]\n",
    "\n",
    "with open(test_e) as e:\n",
    "    for l in e.readlines():\n",
    "         sentences_e.append(null + l.split())\n",
    "\n",
    "with open(dev_e) as e:\n",
    "    for l in e.readlines():\n",
    "         sentences_e.append(null + l.split())\n",
    "\n",
    "    \n",
    "with open(train_f) as f:\n",
    "    sentences_f = [l.split() for l in f.readlines()]\n",
    "\n",
    "with open(test_f) as f:\n",
    "    for l in f.readlines():\n",
    "         sentences_f.append(l.split())\n",
    "\n",
    "with open(dev_f) as f:\n",
    "    for l in f.readlines():\n",
    "         sentences_f.append(l.split())\n",
    "\n",
    "no_sentences = len(sentences_e)\n",
    "print(no_sentences)"
   ]
  },
  {
   "cell_type": "code",
   "execution_count": 6,
   "metadata": {},
   "outputs": [],
   "source": [
    "#Here we preprocessed the corpus by replacing all the words that occur only once with <UNK>  \n",
    "#these corpora were not used in further experiments\n",
    "\n",
    "en_cnt = Counter()\n",
    "for sent in sentences_e:\n",
    "    for word in sent:\n",
    "        en_cnt[word.lower()] += 1\n",
    "\n",
    "new_sentences_e = []\n",
    "for sent in sentences_e:\n",
    "    sent = ['<UNK>' if en_cnt[word.lower()] == 1 else word for word in sent]\n",
    "    new_sentences_e.append(sent)\n",
    "\n",
    "fr_cnt = Counter()\n",
    "for sent in sentences_f:\n",
    "    for word in sent:\n",
    "        fr_cnt[word.lower()] += 1\n",
    "\n",
    "new_sentences_f = []\n",
    "for sent in sentences_f:\n",
    "    sent = ['<UNK>' if fr_cnt[word.lower()] == 1 else word for word in sent]\n",
    "    new_sentences_f.append(sent)"
   ]
  },
  {
   "cell_type": "code",
   "execution_count": 7,
   "metadata": {
    "collapsed": true
   },
   "outputs": [],
   "source": [
    "#INIT TRANSLATION PROBABILITY\n",
    "# - randomly (3x)\n",
    "# - uniformly\n",
    "# - with the final results from IBM1\n",
    "\n",
    "t = defaultdict(lambda: defaultdict(int)) #create dictionary of transition probabilities\n",
    "\n",
    "for i in range (no_sentences):\n",
    "    sent_e = sentences_e[i] #new_sentences_e[i]\n",
    "    sent_f = sentences_f[i] #new_sentences_f[i]\n",
    "    \n",
    "    for word_e in sent_e:\n",
    "        for word_f in sent_f:\n",
    "            #initialize the translation probabilities t(f|e) randomly\n",
    "            t[word_f.lower()][word_e.lower()] = random.random()\n",
    "            "
   ]
  },
  {
   "cell_type": "code",
   "execution_count": 8,
   "metadata": {},
   "outputs": [],
   "source": [
    "max_jump = 100\n",
    "jump_dist = 1. / (2 * max_jump) * np.ones([1, 2 * max_jump])"
   ]
  },
  {
   "cell_type": "code",
   "execution_count": 9,
   "metadata": {
    "collapsed": true
   },
   "outputs": [],
   "source": [
    "def jump_func(i, j, m, n):\n",
    "    \"\"\"\n",
    "    Alignment of french word j to english word i. \n",
    "    i = 0, to ,m  (we use m as in Wilker's lecture slides -- length of English sentence)\n",
    "    j = 1, to ,n  (we use n as in Wilker's lecture slides -- length of French sentence)\n",
    "    That is: a_j = i\n",
    "    with e.g. max_jump = 100\n",
    "    from[-max_jump, max_jump] to [0, 2*max_jump + 1] \n",
    "    \"\"\"\n",
    "    # We normalise j by the length of the French sentence and scale the result to the length of the English sentence\n",
    "    # this gives us a continuous value that is an interpolation of where we j would be in the English sentence\n",
    "    # if alignments were a linear function of the length ratio\n",
    "    jump = np.floor(i - (j * m / n)) \n",
    "    # then we collapse all jumps that are too far to the right to the maximum jump value allowed\n",
    "    if jump >= max_jump:  # or we collapse all jumps that are too far to the left to the maximum (negative) jump allowed\n",
    "        jump = max_jump - 1  \n",
    "    elif jump < -max_jump: #this does not need equality\n",
    "        jump = -max_jump\n",
    "    # Now we shift the jump values so they start from 0\n",
    "    #  this is only necessary if you use python lists or numpy vectors to store jump probabilities\n",
    "    #  otherwise, you can use a python dict and this shifting is not required since dicts can have negative keys\n",
    "    return jump + max_jump"
   ]
  },
  {
   "cell_type": "code",
   "execution_count": 10,
   "metadata": {},
   "outputs": [
    {
     "data": {
      "text/plain": [
       "0.0050000000000000001"
      ]
     },
     "execution_count": 10,
     "metadata": {},
     "output_type": "execute_result"
    }
   ],
   "source": [
    "#max_jump = 100\n",
    "jump_dist[0, int(jump_func(2, 1, 12, 12))]"
   ]
  },
  {
   "cell_type": "code",
   "execution_count": 11,
   "metadata": {
    "collapsed": true
   },
   "outputs": [],
   "source": [
    "#Init with results from IBM1\n",
    "with open('transprobs_9.pickle', 'rb') as f:\n",
    "    t = dill.load(f)\n",
    "    "
   ]
  },
  {
   "cell_type": "code",
   "execution_count": 15,
   "metadata": {
    "collapsed": true
   },
   "outputs": [],
   "source": [
    "#INIT ALIGNMENT PROBABILITIES\n",
    "q = defaultdict(lambda: defaultdict(int))\n",
    "vocab_size = 43196\n",
    "\n",
    "#Initialization of the q probabilities\n",
    "for sent in range(no_sentences):\n",
    "    sent_e = sentences_e[sent] #new_sentences_e[sent]\n",
    "    sent_f = sentences_f[sent] #new_sentences_f[sent]\n",
    "    \n",
    "    m = len(sent_f) \n",
    "    l = len(sent_e)\n",
    "    \n",
    "    for i in range(m): #english\n",
    "        for j in range(l): #french\n",
    "            q[j][(i,l,m)] = random.random()\n",
    "    \n"
   ]
  },
  {
   "cell_type": "code",
   "execution_count": 84,
   "metadata": {
    "collapsed": true
   },
   "outputs": [],
   "source": [
    "with open('alignprobs_init_random.pickle', 'rb') as f:\n",
    "    q = dill.load(f)"
   ]
  },
  {
   "cell_type": "code",
   "execution_count": 7,
   "metadata": {},
   "outputs": [
    {
     "name": "stdout",
     "output_type": "stream",
     "text": [
      "37\n"
     ]
    }
   ],
   "source": [
    "dev_e = 'validation/dev.e'\n",
    "# test_e = 'testing/test/test.e'\n",
    "dev_f = 'validation/dev.f'\n",
    "# test_f = 'testing/test/test.f'\n",
    "\n",
    "with open(dev_e) as e:\n",
    "    val_sentences_e = [null + l.split() for l in e.readlines()]\n",
    "with open(dev_f) as f:\n",
    "    val_sentences_f = [l.split() for l in f.readlines()]\n",
    "\n",
    "num_val_sentences = len(val_sentences_e)\n",
    "print(num_val_sentences)"
   ]
  },
  {
   "cell_type": "code",
   "execution_count": 11,
   "metadata": {},
   "outputs": [
    {
     "name": "stdout",
     "output_type": "stream",
     "text": [
      "this is iteration  0\n",
      "-3762.0295622\n",
      "this is iteration  1\n",
      "-2597.18404836\n",
      "this is iteration  2\n",
      "-2280.22435105\n",
      "this is iteration  3\n",
      "-2199.8179577\n",
      "this is iteration  4\n",
      "-2185.46984305\n",
      "this is iteration  5\n"
     ]
    },
    {
     "name": "stderr",
     "output_type": "stream",
     "text": [
      "/anaconda3/lib/python3.6/site-packages/ipykernel_launcher.py:85: RuntimeWarning: divide by zero encountered in log\n"
     ]
    },
    {
     "name": "stdout",
     "output_type": "stream",
     "text": [
      "-2184.31489906\n",
      "this is iteration  6\n",
      "-2187.63843729\n",
      "this is iteration  7\n",
      "-2211.07547756\n",
      "this is iteration  8\n",
      "-2220.18853587\n",
      "this is iteration  9\n",
      "-2243.88200424\n"
     ]
    },
    {
     "data": {
      "image/png": "[encoded data removed]",
      "text/plain": [
       "<matplotlib.figure.Figure at 0x1bdca3518>"
      ]
     },
     "metadata": {},
     "output_type": "display_data"
    }
   ],
   "source": [
    "# IBM model 2 with jump function EM training\n",
    "\n",
    "likelihood_list = [] #here we will store the likelihoods per iteration\n",
    "\n",
    "#We initialize q uniformly\n",
    "max_jump = 100\n",
    "jump_dist = 1. / (2 * max_jump) * np.ones([1, 2 * max_jump])\n",
    "\n",
    "#We initialize t as the results of training IBM1\n",
    "with open('transprobs_init.pickle', 'rb') as f:\n",
    "    t = dill.load(f)\n",
    "    \n",
    "num_iterations = 10\n",
    "\n",
    "for v in range(num_iterations):\n",
    "    print('this is iteration ',v)\n",
    "    counts_ef = defaultdict(lambda: defaultdict(int))\n",
    "    counts_e = defaultdict(int)\n",
    "    counts_jump = defaultdict(int)\n",
    "    \n",
    "    for k in range(100):\n",
    "        sent_f = sentences_f[k]\n",
    "        m = len(sent_f)\n",
    "        \n",
    "        sent_e = sentences_e[k]\n",
    "        l = len(sent_e)\n",
    "        \n",
    "        ##E-step\n",
    "        #Compute normalizer\n",
    "        for i in range(m):\n",
    "            Z = 0\n",
    "            for j in range(l):\n",
    "                word_z = t[sent_f[i].lower()][sent_e[j].lower()] * jump_dist[0, int(jump_func(j, i, l, m))]\n",
    "                Z += word_z\n",
    "                \n",
    "            #Increment the counts with delta\n",
    "            \n",
    "            for j in range(l):\n",
    "                \n",
    "                delta = (t[sent_f[i].lower()][sent_e[j].lower()] * jump_dist[0, int(jump_func(j, i, l, m))]) / Z\n",
    "\n",
    "                counts_ef[sent_f[i].lower()][sent_e[j].lower()] += delta\n",
    "                \n",
    "                counts_e[sent_e[j].lower()] += delta\n",
    "\n",
    "                counts_jump[int(jump_func(j,i,l,m))] += delta\n",
    "        \n",
    "        ##M-step\n",
    "        \n",
    "        for i in range(m):\n",
    "            \n",
    "            div_q = 0\n",
    "            \n",
    "            for j in range(l):\n",
    "                \n",
    "                t[sent_f[i].lower()][sent_e[j].lower()] = counts_ef[sent_f[i].lower()][sent_e[j].lower()] / counts_e[sent_e[j].lower()]\n",
    "                \n",
    "                div_q += counts_jump[int(jump_func(j,i,l,m))]\n",
    "            \n",
    "            for j in range(l):\n",
    "                \n",
    "                jump_dist[0, int(jump_func(j, i, l, m))] = counts_jump[int(jump_func(j,i,l,m))] / div_q \n",
    "                \n",
    "        \n",
    "    #Compute the log likelihood\n",
    "    likelihood = 0\n",
    "    \n",
    "    for k in range(100):\n",
    "        sent_f = sentences_f[k]\n",
    "        m = len(sent_f)\n",
    "        \n",
    "        sent_e = sentences_e[k]\n",
    "        l = len(sent_e)\n",
    "        \n",
    "        sent_likelihood = 0 \n",
    "\n",
    "        for i in range(m):\n",
    "\n",
    "            word_likelihood = -9999\n",
    "\n",
    "            best_j = -1 #to be set after the loop below\n",
    "\n",
    "            for j in range(l):\n",
    "\n",
    "                temp_likelihood = np.log(t[sent_f[i].lower()][sent_e[j].lower()]) + np.log(jump_dist[0, int(jump_func(j, i, l, m))])\n",
    "                \n",
    "                if word_likelihood == -9999 or temp_likelihood > word_likelihood:\n",
    "\n",
    "                    word_likelihood = temp_likelihood\n",
    "                    best_j = j #we can use this part for decoding later\n",
    "                    \n",
    "            sent_likelihood += word_likelihood\n",
    "    \n",
    "        likelihood += sent_likelihood\n",
    "\n",
    "    print(likelihood)\n",
    "\n",
    "    likelihood_list.append(likelihood)\n",
    "    \n",
    "    #Here we write out the NAACL files on the validation set \n",
    "#     filename = \"val_naacl_IBM2_uniform_iter\" + str(v) +\".txt\"\n",
    "#     write_val_results(filename)\n",
    "    \n",
    "    \n",
    "#Here we plot the log likelihoods per iteration    \n",
    "iteration= list(range(len(likelihood_list)))\n",
    "\n",
    "plt.plot(iteration, likelihood_list)\n",
    "plt.xlabel(\"iteration\")\n",
    "plt.ylabel('log likelihood')\n",
    "plt.title('Evolution of training log likelihood as a function of the iteration')\n",
    "# plt.savefig(\"EM_IBM2_initIBM1.png\")\n",
    "plt.show()"
   ]
  },
  {
   "cell_type": "code",
   "execution_count": 17,
   "metadata": {},
   "outputs": [
    {
     "name": "stdout",
     "output_type": "stream",
     "text": [
      "this is iteration  0\n",
      "this is iteration  1\n",
      "this is iteration  2\n",
      "this is iteration  3\n",
      "this is iteration  4\n"
     ]
    },
    {
     "ename": "ZeroDivisionError",
     "evalue": "float division by zero",
     "output_type": "error",
     "traceback": [
      "\u001b[0;31m---------------------------------------------------------------------------\u001b[0m",
      "\u001b[0;31mZeroDivisionError\u001b[0m                         Traceback (most recent call last)",
      "\u001b[0;32m<ipython-input-17-5756e6521de5>\u001b[0m in \u001b[0;36m<module>\u001b[0;34m()\u001b[0m\n\u001b[1;32m     52\u001b[0m             \u001b[0;32mfor\u001b[0m \u001b[0mj\u001b[0m \u001b[0;32min\u001b[0m \u001b[0mrange\u001b[0m\u001b[0;34m(\u001b[0m\u001b[0ml\u001b[0m\u001b[0;34m)\u001b[0m\u001b[0;34m:\u001b[0m\u001b[0;34m\u001b[0m\u001b[0m\n\u001b[1;32m     53\u001b[0m \u001b[0;34m\u001b[0m\u001b[0m\n\u001b[0;32m---> 54\u001b[0;31m                 \u001b[0mt\u001b[0m\u001b[0;34m[\u001b[0m\u001b[0msent_f\u001b[0m\u001b[0;34m[\u001b[0m\u001b[0mi\u001b[0m\u001b[0;34m]\u001b[0m\u001b[0;34m.\u001b[0m\u001b[0mlower\u001b[0m\u001b[0;34m(\u001b[0m\u001b[0;34m)\u001b[0m\u001b[0;34m]\u001b[0m\u001b[0;34m[\u001b[0m\u001b[0msent_e\u001b[0m\u001b[0;34m[\u001b[0m\u001b[0mj\u001b[0m\u001b[0;34m]\u001b[0m\u001b[0;34m.\u001b[0m\u001b[0mlower\u001b[0m\u001b[0;34m(\u001b[0m\u001b[0;34m)\u001b[0m\u001b[0;34m]\u001b[0m \u001b[0;34m=\u001b[0m \u001b[0mcounts_ef\u001b[0m\u001b[0;34m[\u001b[0m\u001b[0msent_f\u001b[0m\u001b[0;34m[\u001b[0m\u001b[0mi\u001b[0m\u001b[0;34m]\u001b[0m\u001b[0;34m.\u001b[0m\u001b[0mlower\u001b[0m\u001b[0;34m(\u001b[0m\u001b[0;34m)\u001b[0m\u001b[0;34m]\u001b[0m\u001b[0;34m[\u001b[0m\u001b[0msent_e\u001b[0m\u001b[0;34m[\u001b[0m\u001b[0mj\u001b[0m\u001b[0;34m]\u001b[0m\u001b[0;34m.\u001b[0m\u001b[0mlower\u001b[0m\u001b[0;34m(\u001b[0m\u001b[0;34m)\u001b[0m\u001b[0;34m]\u001b[0m \u001b[0;34m/\u001b[0m \u001b[0mcounts_e\u001b[0m\u001b[0;34m[\u001b[0m\u001b[0msent_e\u001b[0m\u001b[0;34m[\u001b[0m\u001b[0mj\u001b[0m\u001b[0;34m]\u001b[0m\u001b[0;34m.\u001b[0m\u001b[0mlower\u001b[0m\u001b[0;34m(\u001b[0m\u001b[0;34m)\u001b[0m\u001b[0;34m]\u001b[0m\u001b[0;34m\u001b[0m\u001b[0m\n\u001b[0m\u001b[1;32m     55\u001b[0m \u001b[0;34m\u001b[0m\u001b[0m\n\u001b[1;32m     56\u001b[0m                 \u001b[0mq\u001b[0m\u001b[0;34m[\u001b[0m\u001b[0mj\u001b[0m\u001b[0;34m]\u001b[0m\u001b[0;34m[\u001b[0m\u001b[0;34m(\u001b[0m\u001b[0mi\u001b[0m\u001b[0;34m,\u001b[0m\u001b[0ml\u001b[0m\u001b[0;34m,\u001b[0m\u001b[0mm\u001b[0m\u001b[0;34m)\u001b[0m\u001b[0;34m]\u001b[0m \u001b[0;34m=\u001b[0m \u001b[0mcounts_jilm\u001b[0m\u001b[0;34m[\u001b[0m\u001b[0mj\u001b[0m\u001b[0;34m]\u001b[0m\u001b[0;34m[\u001b[0m\u001b[0;34m(\u001b[0m\u001b[0mi\u001b[0m\u001b[0;34m,\u001b[0m\u001b[0ml\u001b[0m\u001b[0;34m,\u001b[0m\u001b[0mm\u001b[0m\u001b[0;34m)\u001b[0m\u001b[0;34m]\u001b[0m \u001b[0;34m/\u001b[0m \u001b[0mcounts_ilm\u001b[0m\u001b[0;34m[\u001b[0m\u001b[0;34m(\u001b[0m\u001b[0mi\u001b[0m\u001b[0;34m,\u001b[0m\u001b[0ml\u001b[0m\u001b[0;34m,\u001b[0m\u001b[0mm\u001b[0m\u001b[0;34m)\u001b[0m\u001b[0;34m]\u001b[0m\u001b[0;34m\u001b[0m\u001b[0m\n",
      "\u001b[0;31mZeroDivisionError\u001b[0m: float division by zero"
     ]
    }
   ],
   "source": [
    "# IBM model 2 with EM training (without jump function) -- NOT WORKING DUE TO SPARSITY (deltas become 0)\n",
    "\n",
    "#We initialize q as random values and t as the results of training IBM1\n",
    "with open('alignprobs_init_random.pickle', 'rb') as f:\n",
    "    q = dill.load(f)\n",
    "\n",
    "with open('transprobs_9.pickle', 'rb') as f:\n",
    "    t = dill.load(f)\n",
    "    \n",
    "num_iterations = 10\n",
    "\n",
    "for k in range(num_iterations):\n",
    "    print('this is iteration ',k)\n",
    "    counts_ef = defaultdict(lambda: defaultdict(int))\n",
    "    counts_e = defaultdict(int)\n",
    "    counts_jilm = defaultdict(lambda: defaultdict(int))\n",
    "    counts_ilm = defaultdict(int)\n",
    "    \n",
    "    for k in range(1000):\n",
    "        sent_f = sentences_f[k]\n",
    "        m = len(sent_f)\n",
    "        \n",
    "        sent_e = sentences_e[k]\n",
    "        l = len(sent_e)\n",
    "        \n",
    "        ##E-step\n",
    "        #Compute normalizer\n",
    "        for i in range(m):\n",
    "            Z = 0\n",
    "            for j in range(l):\n",
    "                word_z = t[sent_e[j].lower()][sent_f[i].lower()] * q[j][(i,l,m)]\n",
    "                Z += word_z\n",
    "                \n",
    "            #Increment the counts with delta\n",
    "            \n",
    "            for j in range(l):\n",
    "                \n",
    "                delta = (t[sent_f[i].lower()][sent_e[j].lower()] * q[j][(i,l,m)]) / Z\n",
    "#                 if delta == 0:\n",
    "#                     delta = 0.00000000000000000000001\n",
    "                \n",
    "                counts_ef[sent_f[i].lower()][sent_e[j].lower()] += delta\n",
    "                \n",
    "                counts_e[sent_e[j].lower()] += delta\n",
    "                \n",
    "                counts_jilm[j][(i,l,m)] += delta\n",
    "                \n",
    "                counts_ilm[(i,l,m)] += delta\n",
    "        \n",
    "        ##M-step\n",
    "        for i in range(m):\n",
    "            for j in range(l):\n",
    "                \n",
    "                t[sent_f[i].lower()][sent_e[j].lower()] = counts_ef[sent_f[i].lower()][sent_e[j].lower()] / counts_e[sent_e[j].lower()]\n",
    "                \n",
    "                q[j][(i,l,m)] = counts_jilm[j][(i,l,m)] / counts_ilm[(i,l,m)]\n",
    "                \n",
    "                \n",
    "                \n",
    "                "
   ]
  },
  {
   "cell_type": "code",
   "execution_count": 10,
   "metadata": {
    "collapsed": true
   },
   "outputs": [],
   "source": [
    "#Run this after training to save the translation and alignment probabilities!!!!! \n",
    "\n",
    "filename = 'IBM2_uniform_transprobs_' + str(k) + '.pickle'                   \n",
    "with open(filename, 'wb') as f:\n",
    "    dill.dump(t,f)\n",
    "\n",
    "filename = 'IBM2_uniform_alignprobs_' + str(k) + '.pickle'                   \n",
    "with open(filename, 'wb') as f:\n",
    "    dill.dump(jump_dist,f)"
   ]
  },
  {
   "cell_type": "code",
   "execution_count": 8,
   "metadata": {
    "collapsed": true
   },
   "outputs": [],
   "source": [
    "#Decoding with IBM model 2\n",
    "#we try to find the most probable alignment given the translation \n",
    "#probabilities that were trained with the EM steps\n",
    "#for each word in a sentence, find highest combination of t and q \n",
    "\n",
    "def write_val_results(filename):\n",
    "    naaclfile = open(filename,\"w\") \n",
    "    for sent in range(num_val_sentences):\n",
    "        sent_e = val_sentences_e[sent]\n",
    "        sent_f = val_sentences_f[sent]\n",
    "\n",
    "        l = len(sent_e) #includes null\n",
    "        m = len(sent_f)\n",
    "\n",
    "        for i in range(m):\n",
    "            best_prob = 0\n",
    "            best_j = 0\n",
    "            for j in range(l):\n",
    "                if (t[sent_f[i].lower()][sent_e[j].lower()] * jump_dist[0, int(jump_func(j, i, l, m))]) > best_prob:\n",
    "                    best_prob = t[sent_f[i].lower()][sent_e[j].lower()] * jump_dist[0, int(jump_func(j, i, l, m))]\n",
    "                    best_j = j\n",
    "            if best_j != 0:\n",
    "                naaclfile.write(str(sent+1) + \" \" + str(best_j) + \" \" + str(i+1) + \" S\" + \"\\n\")\n",
    "    naaclfile.close()"
   ]
  },
  {
   "cell_type": "code",
   "execution_count": 26,
   "metadata": {
    "collapsed": true
   },
   "outputs": [],
   "source": [
    "filename = 'IBM2_uniform_alignprobs_231647.pickle'\n",
    "with open(filename, 'rb') as f:\n",
    "    t = dill.load(f)\n",
    "    \n",
    "filename = 'IBM2_uniform_transprobs_231647.pickle'\n",
    "with open(filename, 'rb') as f:\n",
    "    jump_dist = dill.load(f)"
   ]
  },
  {
   "cell_type": "code",
   "execution_count": 14,
   "metadata": {},
   "outputs": [
    {
     "name": "stdout",
     "output_type": "stream",
     "text": [
      "447\n"
     ]
    }
   ],
   "source": [
    "test_e = 'testing/test/test.e'\n",
    "test_f = 'testing/test/test.f'\n",
    "\n",
    "with open(test_e) as e:\n",
    "    test_sentences_e = [null + l.split() for l in e.readlines()]\n",
    "with open(test_f) as f:\n",
    "    test_sentences_f = [l.split() for l in f.readlines()]\n",
    "\n",
    "num_test_sentences = len(test_sentences_e)\n",
    "print(num_test_sentences)"
   ]
  },
  {
   "cell_type": "code",
   "execution_count": 15,
   "metadata": {
    "collapsed": true
   },
   "outputs": [],
   "source": [
    "#Decoding with IBM model 2\n",
    "#we try to find the most probable alignment given the translation \n",
    "#probabilities that were trained with the EM steps\n",
    "#for each word in a sentence, find highest combination of t and q \n",
    "\n",
    "def write_test_results(filename):\n",
    "    naaclfile = open(filename,\"w\") \n",
    "    for sent in range(num_test_sentences):\n",
    "        sent_e = test_sentences_e[sent]\n",
    "        sent_f = test_sentences_f[sent]\n",
    "\n",
    "        l = len(sent_e) #includes null\n",
    "        m = len(sent_f)\n",
    "\n",
    "        for i in range(m):\n",
    "            best_prob = 0\n",
    "            best_j = 0\n",
    "            for j in range(l):\n",
    "                if (t[sent_f[i].lower()][sent_e[j].lower()] * jump_dist[0, int(jump_func(j, i, l, m))]) > best_prob:\n",
    "                    best_prob = t[sent_f[i].lower()][sent_e[j].lower()] * jump_dist[0, int(jump_func(j, i, l, m))]\n",
    "                    best_j = j\n",
    "            if best_j != 0:\n",
    "                naaclfile.write(str(sent+1) + \" \" + str(best_j) + \" \" + str(i+1) + \" S\" + \"\\n\")\n",
    "    naaclfile.close()"
   ]
  },
  {
   "cell_type": "code",
   "execution_count": 16,
   "metadata": {},
   "outputs": [],
   "source": [
    "write_test_results('naacl_IBM2_uniform_iter9')"
   ]
  }
 ],
 "metadata": {
  "kernelspec": {
   "display_name": "Python 3",
   "language": "python",
   "name": "python3"
  },
  "language_info": {
   "codemirror_mode": {
    "name": "ipython",
    "version": 3
   },
   "file_extension": ".py",
   "mimetype": "text/x-python",
   "name": "python",
   "nbconvert_exporter": "python",
   "pygments_lexer": "ipython3",
   "version": "3.6.3"
  }
 },
 "nbformat": 4,
 "nbformat_minor": 2
}
